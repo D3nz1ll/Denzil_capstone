{
 "cells": [
  {
   "cell_type": "markdown",
   "id": "f34ce03a-c985-41c4-97a3-ba301ab08476",
   "metadata": {},
   "source": [
    "# Capstone Project Part 3: Building a Streaming Platform Recommender Using AI Chatbot"
   ]
  },
  {
   "cell_type": "markdown",
   "id": "96a1fc6e-2f00-455a-bdf3-7e626a8ca543",
   "metadata": {},
   "source": [
    "## Contents\n",
    "1. [Install packages, import libraries, API and set filepath](#Install-packages,-import-libraries,-API-and-set-filepath)\n",
    "2. [Load the questions & answers CSV dataset](#Load-the-questions-&-answers-CSV-dataset)\n",
    "3. [Build Index](#Build-Index)\n",
    "4. [Train Questions Dataset](#Train-Questions-Dataset)\n",
    "5. [Evaluation Questions Dataset](#Evaluation-Questions-Dataset)\n",
    "6. [Initial Evaluation](#Initial-Evaluation)\n",
    "7. [2nd Evaluation](#2nd-Evaluation)\n",
    "8. [3rd Evaluation (Fine Tune)](#3rd-Evaluation-(Fine-Tune))"
   ]
  },
  {
   "cell_type": "markdown",
   "id": "905d8f22-b916-41b5-a7d9-e9a0364b0244",
   "metadata": {},
   "source": [
    "## Install packages, import libraries, API and set filepath"
   ]
  },
  {
   "cell_type": "code",
   "execution_count": 115,
   "id": "178e79fb-9881-4bc5-99cb-fc2e1798b3b3",
   "metadata": {},
   "outputs": [
    {
     "name": "stdout",
     "output_type": "stream",
     "text": [
      "Collecting openai\n",
      "  Downloading openai-1.42.0-py3-none-any.whl.metadata (22 kB)\n",
      "Requirement already satisfied: anyio<5,>=3.5.0 in c:\\users\\denzi\\anaconda3\\lib\\site-packages (from openai) (4.2.0)\n",
      "Requirement already satisfied: distro<2,>=1.7.0 in c:\\users\\denzi\\anaconda3\\lib\\site-packages (from openai) (1.8.0)\n",
      "Requirement already satisfied: httpx<1,>=0.23.0 in c:\\users\\denzi\\anaconda3\\lib\\site-packages (from openai) (0.26.0)\n",
      "Requirement already satisfied: jiter<1,>=0.4.0 in c:\\users\\denzi\\anaconda3\\lib\\site-packages (from openai) (0.5.0)\n",
      "Requirement already satisfied: pydantic<3,>=1.9.0 in c:\\users\\denzi\\anaconda3\\lib\\site-packages (from openai) (2.8.2)\n",
      "Requirement already satisfied: sniffio in c:\\users\\denzi\\anaconda3\\lib\\site-packages (from openai) (1.3.0)\n",
      "Requirement already satisfied: tqdm>4 in c:\\users\\denzi\\anaconda3\\lib\\site-packages (from openai) (4.66.4)\n",
      "Requirement already satisfied: typing-extensions<5,>=4.11 in c:\\users\\denzi\\anaconda3\\lib\\site-packages (from openai) (4.12.2)\n",
      "Requirement already satisfied: idna>=2.8 in c:\\users\\denzi\\anaconda3\\lib\\site-packages (from anyio<5,>=3.5.0->openai) (3.4)\n",
      "Requirement already satisfied: certifi in c:\\users\\denzi\\anaconda3\\lib\\site-packages (from httpx<1,>=0.23.0->openai) (2024.7.4)\n",
      "Requirement already satisfied: httpcore==1.* in c:\\users\\denzi\\anaconda3\\lib\\site-packages (from httpx<1,>=0.23.0->openai) (1.0.2)\n",
      "Requirement already satisfied: h11<0.15,>=0.13 in c:\\users\\denzi\\anaconda3\\lib\\site-packages (from httpcore==1.*->httpx<1,>=0.23.0->openai) (0.14.0)\n",
      "Requirement already satisfied: annotated-types>=0.4.0 in c:\\users\\denzi\\anaconda3\\lib\\site-packages (from pydantic<3,>=1.9.0->openai) (0.7.0)\n",
      "Requirement already satisfied: pydantic-core==2.20.1 in c:\\users\\denzi\\anaconda3\\lib\\site-packages (from pydantic<3,>=1.9.0->openai) (2.20.1)\n",
      "Requirement already satisfied: colorama in c:\\users\\denzi\\anaconda3\\lib\\site-packages (from tqdm>4->openai) (0.4.6)\n",
      "Downloading openai-1.42.0-py3-none-any.whl (362 kB)\n",
      "   ---------------------------------------- 0.0/362.9 kB ? eta -:--:--\n",
      "   ---------- ----------------------------- 92.2/362.9 kB 2.6 MB/s eta 0:00:01\n",
      "   ------------------- -------------------- 174.1/362.9 kB 2.1 MB/s eta 0:00:01\n",
      "   ---------------------------- ----------- 256.0/362.9 kB 2.0 MB/s eta 0:00:01\n",
      "   ---------------------------------------  358.4/362.9 kB 2.0 MB/s eta 0:00:01\n",
      "   ---------------------------------------- 362.9/362.9 kB 1.9 MB/s eta 0:00:00\n",
      "Installing collected packages: openai\n",
      "Successfully installed openai-1.42.0\n"
     ]
    }
   ],
   "source": [
    "#install relevant packages to run the AI Chatbot\n",
    "#!pip install llama_index==0.8.64\n",
    "#!pip install openai\n",
    "# !pip install spacy\n",
    "# %pip install llama-index==0.8.64 pypdf sentence-transformers ragas openai "
   ]
  },
  {
   "cell_type": "code",
   "execution_count": 4,
   "id": "c391727d-f231-48b6-883d-d406855468a6",
   "metadata": {},
   "outputs": [],
   "source": [
    "#import relevant libraries as well as API key to run the AI Chatbot\n",
    "import os\n",
    "os.environ['OPENAI_API_KEY'] = \"\" # replace with your API key\n",
    "\n",
    "from llama_index import Document, GPTVectorStoreIndex, ServiceContext, VectorStoreIndex\n",
    "from llama_index.readers import BeautifulSoupWebReader, SimpleDirectoryReader\n",
    "from llama_index.llms import OpenAI\n",
    "from llama_index.evaluation import DatasetGenerator\n",
    "from llama_index.llms.huggingface import HuggingFaceLLM\n",
    "\n",
    "import openai\n",
    "\n",
    "from pathlib import Path\n",
    "from llama_index import download_loader\n",
    "\n",
    "from datasets import Dataset\n",
    "from ragas import evaluate\n",
    "from ragas.metrics import answer_relevancy, faithfulness\n",
    "from llama_index.response.notebook_utils import display_response\n",
    "from llama_index.callbacks import OpenAIFineTuningHandler\n",
    "from llama_index.callbacks import CallbackManager\n",
    "\n",
    "import random\n",
    "import nest_asyncio"
   ]
  },
  {
   "cell_type": "code",
   "execution_count": 33,
   "id": "eabe84f1-530c-49ae-84d7-afef2e563aa4",
   "metadata": {
    "scrolled": true
   },
   "outputs": [],
   "source": [
    "# set filepath to my data directory \n",
    "current_dir = os.getcwd()\n",
    "data_dir = os.path.join(current_dir, \"./data\")"
   ]
  },
  {
   "cell_type": "markdown",
   "id": "d250b509-1510-43fa-83d4-0cd7638304fd",
   "metadata": {},
   "source": [
    "## Load the questions & answers CSV dataset"
   ]
  },
  {
   "cell_type": "code",
   "execution_count": 36,
   "id": "23bcfec1-7a6e-44be-baab-4c9a9aeb25d1",
   "metadata": {
    "scrolled": true
   },
   "outputs": [],
   "source": [
    "#read and load the csv file into the model\n",
    "PagedCSVReader = download_loader(\"PagedCSVReader\")\n",
    "\n",
    "loader = PagedCSVReader(encoding=\"utf-8\")\n",
    "docs = loader.load_data(file=Path('./data/questions_answers.csv')) "
   ]
  },
  {
   "cell_type": "markdown",
   "id": "932932b6-8605-4684-9079-d798c5d81374",
   "metadata": {},
   "source": [
    "## Build Index\r\n",
    "\n",
    "With all the data loaded, we can construct the index for the chatbot. There are 4 types of indexing: Summary index, VectorStore Index, Tree Index and Keyword Table Index. Here we are using VectorStore Index, which is also one of the most common types of indexing."
   ]
  },
  {
   "cell_type": "code",
   "execution_count": 39,
   "id": "efd96690-1a1b-4ac0-8a19-e9deca14ae60",
   "metadata": {},
   "outputs": [],
   "source": [
    "# Set the OpenAI API key from environment variables\n",
    "openai.api_key = os.environ[\"OPENAI_API_KEY\"]\n",
    "\n",
    "# Create a default service context for the OpenAI model with the specified temperature\n",
    "# The 'temperature' parameter controls the randomness in the model's responses (0 means deterministic, 1 means maximum randomness)\n",
    "service_context = ServiceContext.from_defaults(\n",
    "    llm=OpenAI(model=\"gpt-3.5-turbo\", temperature=0) # degree of randomness from 0 to 1. \n",
    ")\n",
    "\n",
    "# Create a GPTVectorStoreIndex from a set of documents using the service context\n",
    "# This method indexes the documents (docs) so they can be searched or queried using the vector-based GPT model.\n",
    "index = GPTVectorStoreIndex.from_documents(documents=docs, service_context=service_context)"
   ]
  },
  {
   "cell_type": "code",
   "execution_count": 40,
   "id": "e19227c0-52c9-43f9-abee-6f84a1bf0068",
   "metadata": {},
   "outputs": [],
   "source": [
    "# Save (persist) the current state of the index to a specified directory.\n",
    "# The index will be stored in the \"./data/index.vecstore\" directory, allowing it to be reloaded later without rebuilding.\n",
    "index.storage_context.persist(persist_dir=\"./data/index.vecstore\")  "
   ]
  },
  {
   "cell_type": "markdown",
   "id": "f326f6b0-afa2-48dc-a184-d801503882f3",
   "metadata": {},
   "source": [
    "## Train Questions Dataset\n",
    "Manually created 25 questions that users are likely to ask and allocated them as the train questions dataset."
   ]
  },
  {
   "cell_type": "code",
   "execution_count": 43,
   "id": "05e64570-150f-4e38-b3bd-012f310219ef",
   "metadata": {},
   "outputs": [],
   "source": [
    "# Putting the 25 questions into a list called train_questions\n",
    "train_questions = [\n",
    "\"Which streaming platform between Netflix, Disney+ and Amazon Prime Video should be chosen looking only at the number of Asian movies and shows available for streaming?\",\n",
    "\"Which streaming service platform offers a better selection of documentaries only, Netflix, Disney+ or Amazon Prime Video?\",\n",
    "\"Between Netflix, Disney+ and Amazon Prime Video, which streaming platform has the highest number of original shows and movies?\",\n",
    "\"Looking at the selection of old movies and shows before year 2000 only, which streaming platform between Netflix, Disney+ and Amazon Prime Video should be chosen?\",\n",
    "\"Which streaming service platform, Netflix, Disney+ or Amazon Prime Video, has the greatest number of users?\",\n",
    "\"In terms of the quantity of Japanese anime only, should Netflix, Disney+ or Amazon Prime Video be chosen?\",\n",
    "\"Based on the availability of superhero movies and shows only, which streaming platform between Netflix, Disney+ or Amazon Prime Video has the greatest number of superhero movies and shows?\",\n",
    "\"In terms of US animation content only, which streaming service platform offers the best variety of US animation content, Netflix, Disney+ or Amazon Prime Video?\",\n",
    "\"Depending on highest average IMDB rating only for its shows and movies, which streaming platform among Netflix, Disney+ and Amazon Prime Video should be chosen?\",\n",
    "\"Which streaming service platform has the highest number of total shows and movies available on the platform?\",\n",
    "\"How does Netflix compare to Disney+ and Amazon Prime Video in terms of the number of Asian movies and dramas available on the platform?\",\n",
    "\"Which streaming service platform offers the most original shows and movies, Netflix, Disney+ or Amazon Prime Video?\",\n",
    "\"Are there more Japanese anime options on Netflix, Disney+ or Amazon Prime Video?\",\n",
    "\"How does the availability of US animation content differ between Netflix, Disney+ and Amazon Prime Video?\",\n",
    "\"Which streaming service platform has the highest number of superhero movies and shows?\",\n",
    "\"Is there a significant difference in the number of documentaries available on Netflix, Disney+ and Amazon Prime Video?\",\n",
    "\"How do the IMDB ratings of content on Netflix, Disney+ and Amazon Prime Video compare, depending on the highest average IMDB rating?\",\n",
    "\"Considering my preference for old movies and shows before year 2000, which platform Netflix, Disney+ or Amazon Prime Video offers the most options?\",\n",
    "\"With a budget of $7, which streaming platform Netflix, Disney+ or Amazon Prime Video should be chosen based on their price?\",\n",
    "\"Based on the platform’s popularity like the largest number of users, which streaming service platform should be chosen?\",\n",
    "\"Considering my preference for original shows and movies, which platform has the highest number of original shows and movies?\",\n",
    "\"Japanese anime aligns with my interest and preference, which platform offers the most Japanese anime?\",\n",
    "\"Which streaming platform Netflix, Disney+ or Amazon Prime Video cater specifically to my preference for Asian movies and shows?\",\n",
    "\"Looking at the price between streaming platform Netflix, Disney+ and Amazon Prime Video, which streaming platform should be chosen with a budget of $8?\",\n",
    "\"Which streaming platform between Netflix, Disney+ and Amazon Prime Video offers the most documentaries?\"]          "
   ]
  },
  {
   "cell_type": "code",
   "execution_count": 44,
   "id": "bf9fd2b3-05bb-4b16-8122-e1ac44e1a2b0",
   "metadata": {
    "scrolled": true
   },
   "outputs": [
    {
     "name": "stdout",
     "output_type": "stream",
     "text": [
      "Which streaming platform between Netflix, Disney+ and Amazon Prime Video should be chosen looking only at the number of Asian movies and shows available for streaming?\n",
      "Which streaming service platform offers a better selection of documentaries only, Netflix, Disney+ or Amazon Prime Video?\n",
      "Between Netflix, Disney+ and Amazon Prime Video, which streaming platform has the highest number of original shows and movies?\n",
      "Looking at the selection of old movies and shows before year 2000 only, which streaming platform between Netflix, Disney+ and Amazon Prime Video should be chosen?\n",
      "Which streaming service platform, Netflix, Disney+ or Amazon Prime Video, has the greatest number of users?\n",
      "In terms of the quantity of Japanese anime only, should Netflix, Disney+ or Amazon Prime Video be chosen?\n",
      "Based on the availability of superhero movies and shows only, which streaming platform between Netflix, Disney+ or Amazon Prime Video has the greatest number of superhero movies and shows?\n",
      "In terms of US animation content only, which streaming service platform offers the best variety of US animation content, Netflix, Disney+ or Amazon Prime Video?\n",
      "Depending on highest average IMDB rating only for its shows and movies, which streaming platform among Netflix, Disney+ and Amazon Prime Video should be chosen?\n",
      "Which streaming service platform has the highest number of total shows and movies available on the platform?\n",
      "How does Netflix compare to Disney+ and Amazon Prime Video in terms of the number of Asian movies and dramas available on the platform?\n",
      "Which streaming service platform offers the most original shows and movies, Netflix, Disney+ or Amazon Prime Video?\n",
      "Are there more Japanese anime options on Netflix, Disney+ or Amazon Prime Video?\n",
      "How does the availability of US animation content differ between Netflix, Disney+ and Amazon Prime Video?\n",
      "Which streaming service platform has the highest number of superhero movies and shows?\n",
      "Is there a significant difference in the number of documentaries available on Netflix, Disney+ and Amazon Prime Video?\n",
      "How do the IMDB ratings of content on Netflix, Disney+ and Amazon Prime Video compare, depending on the highest average IMDB rating?\n",
      "Considering my preference for old movies and shows before year 2000, which platform Netflix, Disney+ or Amazon Prime Video offers the most options?\n",
      "With a budget of $7, which streaming platform Netflix, Disney+ or Amazon Prime Video should be chosen based on their price?\n",
      "Based on the platform’s popularity like the largest number of users, which streaming service platform should be chosen?\n",
      "Considering my preference for original shows and movies, which platform has the highest number of original shows and movies?\n",
      "Japanese anime aligns with my interest and preference, which platform offers the most Japanese anime?\n",
      "Which streaming platform Netflix, Disney+ or Amazon Prime Video cater specifically to my preference for Asian movies and shows?\n",
      "Looking at the price between streaming platform Netflix, Disney+ and Amazon Prime Video, which streaming platform should be chosen with a budget of $8?\n",
      "Which streaming platform between Netflix, Disney+ and Amazon Prime Video offers the most documentaries?\n"
     ]
    }
   ],
   "source": [
    "# writes a list of all 25 questions to a file named train_questions.txt and prints each question to the console.\n",
    "with open(\"train_questions.txt\", \"w\") as f:\n",
    "    for question in train_questions:\n",
    "        f.write(question + \"\\n\")\n",
    "        print(question)"
   ]
  },
  {
   "cell_type": "markdown",
   "id": "1f706c59-ac9a-4429-ab3f-329d9f2faa2d",
   "metadata": {},
   "source": [
    "## Evaluation Questions Dataset\n",
    "Using the 25 train questions created earlier, rephrase, amend and shuffle them to create another set of 25 questions that are slightly different. Then allocate these new 25 questions as the evaluation questions dataset."
   ]
  },
  {
   "cell_type": "code",
   "execution_count": 47,
   "id": "699dfb84-dc05-4560-8e7f-6695605c08de",
   "metadata": {},
   "outputs": [],
   "source": [
    "# Putting the 25 rephrased, amended and shuffled questions into a list called eval_questions\n",
    "eval_questions = [\n",
    "\"With a budget of $8, which streaming service—Netflix, Disney+, or Amazon Prime Video—offers the best price option?\",\n",
    "\"If I'm interested in movies and shows from before 2000, which platform—Netflix, Disney+, or Amazon Prime Video—has the most extensive collection?\",\n",
    "\"How does Netflix's library of Asian shows and movies stack up against Disney+ and Amazon Prime Video?\",\n",
    "\"For Japanese anime, which platform—Netflix, Disney+, or Amazon Prime Video—offers the largest collection of titles?\",\n",
    "\"Which platform—Netflix, Disney+, or Amazon Prime Video—features the most superhero films and series?\",\n",
    "\"Which platform, Netflix, Disney+, or Amazon Prime Video, offers the most original programming?\",\n",
    "\"If I’m looking for older films and shows from before the year 2000, which platform—Netflix, Disney+, or Amazon Prime Video—would be the best option?\",\n",
    "\"Which platform—Netflix, Disney+, or Amazon Prime Video—has the biggest selection of documentaries?\",\n",
    "\"For U.S. animated content, which streaming platform—Netflix, Disney+, or Amazon Prime Video—offers the most variety?\",\n",
    "\"How do Netflix, Disney+, and Amazon Prime Video compare in terms of their average IMDb ratings?\",\n",
    "\"With a budget of $7, which streaming service—Netflix, Disney+, or Amazon Prime Video—offers the most affordable option?\",\n",
    "\"Out of Netflix, Disney+, and Amazon Prime Video, which service has the greatest number of original movies and series?\",\n",
    "\"Between Netflix, Disney+, and Amazon Prime Video, which one has the most superhero movies and shows?\",\n",
    "\"For original series and films, which service—Netflix, Disney+, or Amazon Prime Video—has the largest offering?\",\n",
    "\"Based on user count, which platform—Netflix, Disney+, or Amazon Prime Video—should be selected?\",\n",
    "\"When it comes to documentaries, which streaming platform—Netflix, Disney+, or Amazon Prime Video—provides the top selection?\",\n",
    "\"Among Netflix, Disney+, and Amazon Prime Video, which streaming service provides the most Japanese anime content?\",\n",
    "\"If I’m into Japanese anime, which platform has the broadest selection?\",\n",
    "\"Based on average IMDb ratings, which platform—Netflix, Disney+, or Amazon Prime Video—is the better choice?\",\n",
    "\"Is there a significant difference in the number of documentaries available on Netflix, Disney+, and Amazon Prime Video?\",\n",
    "\"Which of Netflix, Disney+, or Amazon Prime Video features the largest collection of Asian films and shows?\",\n",
    "\"Which streaming service has the highest number of users: Netflix, Disney+, or Amazon Prime Video?\",\n",
    "\"Which service—Netflix, Disney+, or Amazon Prime Video—boasts the biggest collection of movies and series?\",\n",
    "\"Which service—Netflix, Disney+, or Amazon Prime Video—is the best fit for someone who prefers Asian films and shows?\",\n",
    "\"How do Netflix, Disney+, and Amazon Prime Video differ when it comes to U.S. animated content?\"]       "
   ]
  },
  {
   "cell_type": "code",
   "execution_count": 49,
   "id": "3045f516-b6e8-4339-8cf5-d2cad1df19ac",
   "metadata": {
    "scrolled": true
   },
   "outputs": [
    {
     "name": "stdout",
     "output_type": "stream",
     "text": [
      "With a budget of $8, which streaming service—Netflix, Disney+, or Amazon Prime Video—offers the best price option?\n",
      "If I'm interested in movies and shows from before 2000, which platform—Netflix, Disney+, or Amazon Prime Video—has the most extensive collection?\n",
      "How does Netflix's library of Asian shows and movies stack up against Disney+ and Amazon Prime Video?\n",
      "For Japanese anime, which platform—Netflix, Disney+, or Amazon Prime Video—offers the largest collection of titles?\n",
      "Which platform—Netflix, Disney+, or Amazon Prime Video—features the most superhero films and series?\n",
      "Which platform, Netflix, Disney+, or Amazon Prime Video, offers the most original programming?\n",
      "If I’m looking for older films and shows from before the year 2000, which platform—Netflix, Disney+, or Amazon Prime Video—would be the best option?\n",
      "Which platform—Netflix, Disney+, or Amazon Prime Video—has the biggest selection of documentaries?\n",
      "For U.S. animated content, which streaming platform—Netflix, Disney+, or Amazon Prime Video—offers the most variety?\n",
      "How do Netflix, Disney+, and Amazon Prime Video compare in terms of their average IMDb ratings?\n",
      "With a budget of $7, which streaming service—Netflix, Disney+, or Amazon Prime Video—offers the most affordable option?\n",
      "Out of Netflix, Disney+, and Amazon Prime Video, which service has the greatest number of original movies and series?\n",
      "Between Netflix, Disney+, and Amazon Prime Video, which one has the most superhero movies and shows?\n",
      "For original series and films, which service—Netflix, Disney+, or Amazon Prime Video—has the largest offering?\n",
      "Based on user count, which platform—Netflix, Disney+, or Amazon Prime Video—should be selected?\n",
      "When it comes to documentaries, which streaming platform—Netflix, Disney+, or Amazon Prime Video—provides the top selection?\n",
      "Among Netflix, Disney+, and Amazon Prime Video, which streaming service provides the most Japanese anime content?\n",
      "If I’m into Japanese anime, which platform has the broadest selection?\n",
      "Based on average IMDb ratings, which platform—Netflix, Disney+, or Amazon Prime Video—is the better choice?\n",
      "Is there a significant difference in the number of documentaries available on Netflix, Disney+, and Amazon Prime Video?\n",
      "Which of Netflix, Disney+, or Amazon Prime Video features the largest collection of Asian films and shows?\n",
      "Which streaming service has the highest number of users: Netflix, Disney+, or Amazon Prime Video?\n",
      "Which service—Netflix, Disney+, or Amazon Prime Video—boasts the biggest collection of movies and series?\n",
      "Which service—Netflix, Disney+, or Amazon Prime Video—is the best fit for someone who prefers Asian films and shows?\n",
      "How do Netflix, Disney+, and Amazon Prime Video differ when it comes to U.S. animated content?\n"
     ]
    }
   ],
   "source": [
    "#writes a list of all 25 questions to a file named eval_questions.txt\n",
    "with open(\"eval_questions.txt\", \"w\") as f:\n",
    "    for question in eval_questions:\n",
    "        f.write(question + \"\\n\")\n",
    "        print(question)"
   ]
  },
  {
   "cell_type": "code",
   "execution_count": 50,
   "id": "392a8c16-848c-4d09-826e-8bf87931ca1e",
   "metadata": {},
   "outputs": [
    {
     "name": "stdout",
     "output_type": "stream",
     "text": [
      "Total number of documents: 25\n"
     ]
    }
   ],
   "source": [
    "#prints the total number of documents in the docs list.\n",
    "print(\"Total number of documents:\", len(docs))"
   ]
  },
  {
   "cell_type": "markdown",
   "id": "7927f828-6526-4702-81b6-54e92e703211",
   "metadata": {},
   "source": [
    "## Initial Evaluation\n",
    "\n",
    "For this evaluation with GPT-3.5 Query Engine, we will be using the [`ragas` evaluation library](https://github.com/explodinggradients/ragas).\n",
    "\n",
    "For this notebook, we will be using the following two metrics:\n",
    "\n",
    "- `answer_relevancy` - This measures how relevant the generated answer is to the prompt. If the answer is incomplete or contains redundant information, the score will be low. Relevance is quantified by comparing the generated answer to an expected reference answer. The score typically ranges from 0 to 1, with higher values indicating better relevance.\n",
    "\n",
    "- `faithfulness` - This measures the factual consistency of the generated answer with the given context. It is assessed through a multi-step process that involves extracting statements from the generated answer and verifying each one against the context. The final score is scaled between 0 and 1, with higher scores indicating greater factual consistency."
   ]
  },
  {
   "cell_type": "code",
   "execution_count": null,
   "id": "f5bb3cf5-d0a7-4cab-9316-58fadf1a28c4",
   "metadata": {},
   "outputs": [],
   "source": [
    "# Set a random seed to ensure reproducibility of the shuffling process\n",
    "random.seed(42)\n",
    "\n",
    "# Shuffle the list of documents (docs) in-place to randomize their order\n",
    "random.shuffle(docs)\n",
    "\n",
    "# Create a new service context for the OpenAI model (gpt-3.5-turbo) with a temperature of 0\n",
    "# The temperature is set to 0 for deterministic output from the model\n",
    "gpt_context = ServiceContext.from_defaults(\n",
    "    llm=OpenAI(model=\"gpt-3.5-turbo\", temperature=0)\n",
    ")"
   ]
  },
  {
   "cell_type": "code",
   "execution_count": 58,
   "id": "e2b467e1-59a6-4782-8717-983d15f79c66",
   "metadata": {},
   "outputs": [],
   "source": [
    "#reads questions from a file named eval_questions.txt and stores them in a list named questions.\n",
    "questions = []\n",
    "with open(\"eval_questions.txt\", \"r\") as f:\n",
    "    for line in f:\n",
    "        questions.append(line.strip())"
   ]
  },
  {
   "cell_type": "code",
   "execution_count": 60,
   "id": "198bca04-801d-464f-9b15-323e7f18b23d",
   "metadata": {},
   "outputs": [],
   "source": [
    "# Input the model to be used \"gpt-3.5-turbo\"\n",
    "# Limit the context window of the model to 2048 tokens, ensuring that the \"refine\" mechanism is used for longer texts.\n",
    "gpt_context = ServiceContext.from_defaults(\n",
    "    llm=OpenAI(model=\"gpt-3.5-turbo\", temperature=0), context_window=2048\n",
    ")\n",
    "\n",
    "# Create a vector store index from the provided documents (docs) using the specified service context (gpt_context).\n",
    "# This index will be used for semantic similarity searches.\n",
    "index = VectorStoreIndex.from_documents(docs, service_context=gpt_context)\n",
    "\n",
    "# Create a query engine from the index that returns the top 2 most semantically similar documents for a given query.\n",
    "query_engine = index.as_query_engine(similarity_top_k=2)\n",
    "\n",
    "# The GPT-3.5 turbo model is used to understand the semantic content of documents and retrieve those most similar to the given query."
   ]
  },
  {
   "cell_type": "code",
   "execution_count": 61,
   "id": "058e9a97-6dec-4d88-8f2b-104bfc67284d",
   "metadata": {},
   "outputs": [],
   "source": [
    "# Initialize empty lists to store contexts (relevant document sections) and answers for each question.\n",
    "contexts = []\n",
    "answers = []\n",
    "\n",
    "# Loop through each question in the 'questions' list.\n",
    "for question in questions:\n",
    "    # Use the query engine to find the most relevant documents and generate an answer for the question.\n",
    "    response = query_engine.query(question)\n",
    "\n",
    "    # Extract the content of the source nodes (relevant document sections) from the response\n",
    "    # and append them as context for the question.\n",
    "    contexts.append([x.node.get_content() for x in response.source_nodes])\n",
    "\n",
    "    # Append the generated answer (as a string) to the 'answers' list.\n",
    "    answers.append(str(response))\n",
    "\n",
    "#store the contexts and answers of the responses"
   ]
  },
  {
   "cell_type": "code",
   "execution_count": 63,
   "id": "f7d2de77-09be-4a03-bdda-8f912cb7e8cf",
   "metadata": {},
   "outputs": [
    {
     "data": {
      "text/plain": [
       "['With a budget of $8, which streaming service—Netflix, Disney+, or Amazon Prime Video—offers the best price option?',\n",
       " \"If I'm interested in movies and shows from before 2000, which platform—Netflix, Disney+, or Amazon Prime Video—has the most extensive collection?\",\n",
       " \"How does Netflix's library of Asian shows and movies stack up against Disney+ and Amazon Prime Video?\",\n",
       " 'For Japanese anime, which platform—Netflix, Disney+, or Amazon Prime Video—offers the largest collection of titles?',\n",
       " 'Which platform—Netflix, Disney+, or Amazon Prime Video—features the most superhero films and series?',\n",
       " 'Which platform, Netflix, Disney+, or Amazon Prime Video, offers the most original programming?',\n",
       " 'If I’m looking for older films and shows from before the year 2000, which platform—Netflix, Disney+, or Amazon Prime Video—would be the best option?',\n",
       " 'Which platform—Netflix, Disney+, or Amazon Prime Video—has the biggest selection of documentaries?',\n",
       " 'For U.S. animated content, which streaming platform—Netflix, Disney+, or Amazon Prime Video—offers the most variety?',\n",
       " 'How do Netflix, Disney+, and Amazon Prime Video compare in terms of their average IMDb ratings?',\n",
       " 'With a budget of $7, which streaming service—Netflix, Disney+, or Amazon Prime Video—offers the most affordable option?',\n",
       " 'Out of Netflix, Disney+, and Amazon Prime Video, which service has the greatest number of original movies and series?',\n",
       " 'Between Netflix, Disney+, and Amazon Prime Video, which one has the most superhero movies and shows?',\n",
       " 'For original series and films, which service—Netflix, Disney+, or Amazon Prime Video—has the largest offering?',\n",
       " 'Based on user count, which platform—Netflix, Disney+, or Amazon Prime Video—should be selected?',\n",
       " 'When it comes to documentaries, which streaming platform—Netflix, Disney+, or Amazon Prime Video—provides the top selection?',\n",
       " 'Among Netflix, Disney+, and Amazon Prime Video, which streaming service provides the most Japanese anime content?',\n",
       " 'If I’m into Japanese anime, which platform has the broadest selection?',\n",
       " 'Based on average IMDb ratings, which platform—Netflix, Disney+, or Amazon Prime Video—is the better choice?',\n",
       " 'Is there a significant difference in the number of documentaries available on Netflix, Disney+, and Amazon Prime Video?',\n",
       " 'Which of Netflix, Disney+, or Amazon Prime Video features the largest collection of Asian films and shows?',\n",
       " 'Which streaming service has the highest number of users: Netflix, Disney+, or Amazon Prime Video?',\n",
       " 'Which service—Netflix, Disney+, or Amazon Prime Video—boasts the biggest collection of movies and series?',\n",
       " 'Which service—Netflix, Disney+, or Amazon Prime Video—is the best fit for someone who prefers Asian films and shows?',\n",
       " 'How do Netflix, Disney+, and Amazon Prime Video differ when it comes to U.S. animated content?']"
      ]
     },
     "execution_count": 63,
     "metadata": {},
     "output_type": "execute_result"
    }
   ],
   "source": [
    "# Retrieve the first 25 questions from the 'questions' list.\n",
    "questions[:25]"
   ]
  },
  {
   "cell_type": "code",
   "execution_count": 64,
   "id": "8d67f791-4a71-4fa3-b89a-265f9d166d67",
   "metadata": {},
   "outputs": [
    {
     "data": {
      "application/vnd.jupyter.widget-view+json": {
       "model_id": "5b21279e16154037968af1d930004cca",
       "version_major": 2,
       "version_minor": 0
      },
      "text/plain": [
       "Evaluating:   0%|          | 0/50 [00:00<?, ?it/s]"
      ]
     },
     "metadata": {},
     "output_type": "display_data"
    },
    {
     "name": "stdout",
     "output_type": "stream",
     "text": [
      "{'answer_relevancy': 0.9379, 'faithfulness': 0.9333}\n"
     ]
    }
   ],
   "source": [
    "# Create a dataset from the 'questions', 'answers', and 'contexts' lists by converting them into a dictionary format.\n",
    "# Each key represents a column, with \"question\", \"answer\", and \"contexts\" being the dataset fields.\n",
    "ds = Dataset.from_dict(\n",
    "    {\n",
    "        \"question\": questions,\n",
    "        \"answer\": answers,\n",
    "        \"contexts\": contexts,\n",
    "    }\n",
    ")\n",
    "\n",
    "# Evaluate the dataset (ds) using the specified evaluation metrics: 'answer_relevancy' and 'faithfulness'.\n",
    "# These metrics will assess the quality of the generated answers.\n",
    "result = evaluate(ds,[answer_relevancy, faithfulness])\n",
    "\n",
    "# Print the result of the evaluation, which includes scores for both metrics.\n",
    "print(result)\n",
    "\n",
    "# Evaluate the answer_relevancy & faithfulness using ragas. Ragas score  = (answer_relevancy + faithfulness) / 2"
   ]
  },
  {
   "cell_type": "markdown",
   "id": "0f72fa83-fce1-4b80-9e08-9a70fd864580",
   "metadata": {},
   "source": [
    "## 2nd Evaluation\n",
    "\n",
    "For this evaluation with GPT-4 Query Engine, we will be using the [`ragas` evaluation library](https://github.com/explodinggradients/ragas).\n",
    "\n",
    "For this notebook, we will be using the following two metrics:\n",
    "\n",
    "- `answer_relevancy` - This measures how relevant the generated answer is to the prompt. If the answer is incomplete or contains redundant information, the score will be low. Relevance is quantified by comparing the generated answer to an expected reference answer. The score typically ranges from 0 to 1, with higher values indicating better relevance.\n",
    "\n",
    "- `faithfulness` - This measures the factual consistency of the generated answer with the given context. It is assessed through a multi-step process that involves extracting statements from the generated answer and verifying each one against the context. The final score is scaled between 0 and 1, with higher scores indicating greater factual consistency."
   ]
  },
  {
   "cell_type": "code",
   "execution_count": 66,
   "id": "927333bd-1041-4bc5-aeed-997af2de16f3",
   "metadata": {},
   "outputs": [],
   "source": [
    "#reads questions from a file named eval_questions.txt and stores them in a list named questions.\n",
    "questions = []\n",
    "with open(\"eval_questions.txt\", \"r\") as f:\n",
    "    for line in f:\n",
    "        questions.append(line.strip())"
   ]
  },
  {
   "cell_type": "code",
   "execution_count": 67,
   "id": "4f410f2a-f59a-4569-8326-88e11a785929",
   "metadata": {},
   "outputs": [],
   "source": [
    "# Input the model to be used \"gpt-4\"\n",
    "# Limit the context window of the model to 2048 tokens, ensuring that the \"refine\" mechanism is used for longer texts.\n",
    "gpt_context = ServiceContext.from_defaults(\n",
    "    llm=OpenAI(model=\"gpt-4\", temperature=0), context_window=2048\n",
    ")\n",
    "\n",
    "# Create a vector store index from the provided documents (docs) using the specified service context (gpt_context).\n",
    "# This index will be used for semantic similarity searches.\n",
    "index = VectorStoreIndex.from_documents(docs, service_context=gpt_context)\n",
    "\n",
    "# Create a query engine from the index that returns the top 2 most semantically similar documents for a given query.\n",
    "query_engine = index.as_query_engine(similarity_top_k=2)\n",
    "\n",
    "# The GPT-4 model is used to understand the semantic content of documents and retrieve those most similar to the given query."
   ]
  },
  {
   "cell_type": "code",
   "execution_count": 68,
   "id": "2d314eae-c1b4-48a6-8587-88e502e95a33",
   "metadata": {},
   "outputs": [],
   "source": [
    "# Initialize empty lists to store contexts (relevant document sections) and answers for each question.\n",
    "contexts = []\n",
    "answers = []\n",
    "\n",
    "# Loop through each question in the 'questions' list.\n",
    "for question in questions:\n",
    "    # Use the query engine to find the most relevant documents and generate an answer for the question.\n",
    "    response = query_engine.query(question)\n",
    "\n",
    "    # Extract the content of the source nodes (relevant document sections) from the response\n",
    "    # and append them as context for the question.\n",
    "    contexts.append([x.node.get_content() for x in response.source_nodes])\n",
    "\n",
    "    # Append the generated answer (as a string) to the 'answers' list.\n",
    "    answers.append(str(response))\n",
    "    \n",
    "#store the contexts and answers of the responses"
   ]
  },
  {
   "cell_type": "code",
   "execution_count": 69,
   "id": "b1fefeca-f0cd-42ad-9edb-268b52ddcd4f",
   "metadata": {},
   "outputs": [
    {
     "data": {
      "text/plain": [
       "['With a budget of $8, which streaming service—Netflix, Disney+, or Amazon Prime Video—offers the best price option?',\n",
       " \"If I'm interested in movies and shows from before 2000, which platform—Netflix, Disney+, or Amazon Prime Video—has the most extensive collection?\",\n",
       " \"How does Netflix's library of Asian shows and movies stack up against Disney+ and Amazon Prime Video?\",\n",
       " 'For Japanese anime, which platform—Netflix, Disney+, or Amazon Prime Video—offers the largest collection of titles?',\n",
       " 'Which platform—Netflix, Disney+, or Amazon Prime Video—features the most superhero films and series?',\n",
       " 'Which platform, Netflix, Disney+, or Amazon Prime Video, offers the most original programming?',\n",
       " 'If I’m looking for older films and shows from before the year 2000, which platform—Netflix, Disney+, or Amazon Prime Video—would be the best option?',\n",
       " 'Which platform—Netflix, Disney+, or Amazon Prime Video—has the biggest selection of documentaries?',\n",
       " 'For U.S. animated content, which streaming platform—Netflix, Disney+, or Amazon Prime Video—offers the most variety?',\n",
       " 'How do Netflix, Disney+, and Amazon Prime Video compare in terms of their average IMDb ratings?',\n",
       " 'With a budget of $7, which streaming service—Netflix, Disney+, or Amazon Prime Video—offers the most affordable option?',\n",
       " 'Out of Netflix, Disney+, and Amazon Prime Video, which service has the greatest number of original movies and series?',\n",
       " 'Between Netflix, Disney+, and Amazon Prime Video, which one has the most superhero movies and shows?',\n",
       " 'For original series and films, which service—Netflix, Disney+, or Amazon Prime Video—has the largest offering?',\n",
       " 'Based on user count, which platform—Netflix, Disney+, or Amazon Prime Video—should be selected?',\n",
       " 'When it comes to documentaries, which streaming platform—Netflix, Disney+, or Amazon Prime Video—provides the top selection?',\n",
       " 'Among Netflix, Disney+, and Amazon Prime Video, which streaming service provides the most Japanese anime content?',\n",
       " 'If I’m into Japanese anime, which platform has the broadest selection?',\n",
       " 'Based on average IMDb ratings, which platform—Netflix, Disney+, or Amazon Prime Video—is the better choice?',\n",
       " 'Is there a significant difference in the number of documentaries available on Netflix, Disney+, and Amazon Prime Video?',\n",
       " 'Which of Netflix, Disney+, or Amazon Prime Video features the largest collection of Asian films and shows?',\n",
       " 'Which streaming service has the highest number of users: Netflix, Disney+, or Amazon Prime Video?',\n",
       " 'Which service—Netflix, Disney+, or Amazon Prime Video—boasts the biggest collection of movies and series?',\n",
       " 'Which service—Netflix, Disney+, or Amazon Prime Video—is the best fit for someone who prefers Asian films and shows?',\n",
       " 'How do Netflix, Disney+, and Amazon Prime Video differ when it comes to U.S. animated content?']"
      ]
     },
     "execution_count": 69,
     "metadata": {},
     "output_type": "execute_result"
    }
   ],
   "source": [
    "# Retrieve the first 25 questions from the 'questions' list.\n",
    "questions[:25]"
   ]
  },
  {
   "cell_type": "code",
   "execution_count": 70,
   "id": "48f3a26a-bce8-4a32-a56b-d34c3ce2bf12",
   "metadata": {},
   "outputs": [
    {
     "data": {
      "application/vnd.jupyter.widget-view+json": {
       "model_id": "148d5c0309a549fda927f9b2d4f394cf",
       "version_major": 2,
       "version_minor": 0
      },
      "text/plain": [
       "Evaluating:   0%|          | 0/50 [00:00<?, ?it/s]"
      ]
     },
     "metadata": {},
     "output_type": "display_data"
    },
    {
     "name": "stdout",
     "output_type": "stream",
     "text": [
      "{'answer_relevancy': 0.9395, 'faithfulness': 0.9700}\n"
     ]
    }
   ],
   "source": [
    "# Create a dataset from the 'questions', 'answers', and 'contexts' lists by converting them into a dictionary format.\n",
    "# Each key represents a column, with \"question\", \"answer\", and \"contexts\" being the dataset fields.\n",
    "ds = Dataset.from_dict(\n",
    "    {\n",
    "        \"question\": questions,\n",
    "        \"answer\": answers,\n",
    "        \"contexts\": contexts,\n",
    "    }\n",
    ")\n",
    "\n",
    "# Evaluate the dataset (ds) using the specified evaluation metrics: 'answer_relevancy' and 'faithfulness'.\n",
    "# These metrics will assess the quality of the generated answers.\n",
    "result = evaluate(ds,[answer_relevancy, faithfulness])\n",
    "\n",
    "# Print the result of the evaluation, which includes scores for both metrics.\n",
    "print(result)\n",
    "\n",
    "#evaluate result on answer_relevancy & faithfulness using ragas. Ragas score  = (answer_relevancy + faithfulness) / 2"
   ]
  },
  {
   "cell_type": "markdown",
   "id": "2d13a2c2-5686-4879-b2d9-e5be863cebf5",
   "metadata": {},
   "source": [
    "## 3rd Evaluation (Fine Tune)\n",
    "\n",
    "For this evaluation with fine tuned ft:gpt-3.5-turbo-1106 Query Engine, we will be using the [`ragas` evaluation library](https://github.com/explodinggradients/ragas).\n",
    "\n",
    "For this notebook, we will be using the following two metrics:\n",
    "\n",
    "- `answer_relevancy` - This measures how relevant the generated answer is to the prompt. If the answer is incomplete or contains redundant information, the score will be low. Relevance is quantified by comparing the generated answer to an expected reference answer. The score typically ranges from 0 to 1, with higher values indicating better relevance.\n",
    "\n",
    "- `faithfulness` - This measures the factual consistency of the generated answer with the given context. It is assessed through a multi-step process that involves extracting statements from the generated answer and verifying each one against the context. The final score is scaled between 0 and 1, with higher scores indicating greater factual consistency.\n",
    "\n",
    "The purpose of running this fine tuned ft:gpt-3.5-turbo-1106 model is to check and see if the fine tuned model can achive greater values for its answer relevancy as well as its faithfulness.etter."
   ]
  },
  {
   "cell_type": "markdown",
   "id": "0dbcff73-be48-404f-a1d9-fa36c099d0f8",
   "metadata": {},
   "source": [
    "### Generate Training Data\n",
    "\n",
    "Here, we use GPT-3.5-turbo and the `OpenAIFineTuningHandler` to collect data that we want to train on."
   ]
  },
  {
   "cell_type": "code",
   "execution_count": 72,
   "id": "d3563dde-d3c5-4a65-b36c-fe9fd0e6c095",
   "metadata": {},
   "outputs": [],
   "source": [
    "# Initialize the fine-tuning handler for OpenAI, which will manage the fine-tuning process.\n",
    "finetuning_handler = OpenAIFineTuningHandler()\n",
    "\n",
    "# Create a callback manager to handle events and callbacks during the fine-tuning process.\n",
    "# The callback manager includes the fine-tuning handler.\n",
    "callback_manager = CallbackManager([finetuning_handler])\n",
    "\n",
    "# Create a service context for the GPT-3.5-turbo model.\n",
    "# Set the context window to 2048 tokens to limit the amount of text processed, which helps test the refine process.\n",
    "# Associate the callback manager with the service context to handle fine-tuning callbacks.\n",
    "gpt_35_context = ServiceContext.from_defaults(\n",
    "    llm=OpenAI(model=\"gpt-3.5-turbo\", temperature=0),\n",
    "    context_window=2048,  # limit the context window artifically to test refine process\n",
    "    callback_manager=callback_manager,\n",
    ")\n",
    "\n",
    "# The GPT-3.5-turbo model is configured to understand and process the semantic content of documents,\n",
    "# and will use this understanding to find documents semantically similar to a given query."
   ]
  },
  {
   "cell_type": "code",
   "execution_count": 73,
   "id": "ef609e6b-4261-4e56-a17d-e84532e78a60",
   "metadata": {},
   "outputs": [],
   "source": [
    "# Create a VectorStoreIndex from the provided collection of documents (docs) using the specified service context (gpt_35_context).\n",
    "# This index will be used to perform semantic searches on the documents.\n",
    "index = VectorStoreIndex.from_documents(docs, service_context=gpt_35_context)\n",
    "\n",
    "# Convert the created VectorStoreIndex into a query engine that can perform similarity searches.\n",
    "# The query engine is configured to return the top 2 most similar documents for any given query.\n",
    "query_engine = index.as_query_engine(similarity_top_k=2) "
   ]
  },
  {
   "cell_type": "code",
   "execution_count": 74,
   "id": "ac7455c6-4b0e-437b-ac7d-a83b7473ce7b",
   "metadata": {},
   "outputs": [],
   "source": [
    "#reads questions from a file named train_questions.txt and stores them in a list named questions.\n",
    "questions = []\n",
    "with open(\"train_questions.txt\", \"r\") as f:\n",
    "    for line in f:\n",
    "        questions.append(line.strip())"
   ]
  },
  {
   "cell_type": "code",
   "execution_count": 75,
   "id": "c10b68af-696c-4206-ba9c-87a894955d0b",
   "metadata": {},
   "outputs": [],
   "source": [
    "# loop that iterates over a list of questions, querying a query_engine for each question and storing the response in a variable named response\n",
    "for question in questions:\n",
    "    response = query_engine.query(question)"
   ]
  },
  {
   "cell_type": "markdown",
   "id": "50f8e866-6a1d-4503-8b87-fd76d46f261c",
   "metadata": {},
   "source": [
    "### Create Fine Tuned Engine"
   ]
  },
  {
   "cell_type": "code",
   "execution_count": 76,
   "id": "09a94b05-5956-4b15-9e9b-5f55e467c85e",
   "metadata": {},
   "outputs": [
    {
     "name": "stdout",
     "output_type": "stream",
     "text": [
      "Wrote 25 examples to finetune.jsonl\n"
     ]
    }
   ],
   "source": [
    "#save fine-tuning events to a JSONL file called finetune.\n",
    "finetuning_handler.save_finetuning_events(\"finetune.jsonl\")"
   ]
  },
  {
   "cell_type": "markdown",
   "id": "2b80e295-3fa4-44b1-a9a7-d8d950198f3f",
   "metadata": {},
   "source": [
    "### Evaluating Fine Tuned Engine\n",
    "\n",
    "After some time, your model will be done training!\n",
    "\n",
    "The next step is running our fine-tuned model on our evaluation dataset again to measure any performance increase.se."
   ]
  },
  {
   "cell_type": "code",
   "execution_count": 78,
   "id": "a5e112b8-c962-43c5-82bc-c2f10bada1ae",
   "metadata": {},
   "outputs": [],
   "source": [
    "#reads questions from a file named eval_questions.txt and stores them in a list named questions.\n",
    "questions = []\n",
    "with open(\"eval_questions.txt\", \"r\") as f:\n",
    "    for line in f:\n",
    "        questions.append(line.strip())"
   ]
  },
  {
   "cell_type": "code",
   "execution_count": 79,
   "id": "edaf1622-52f7-4dd2-a12f-b7c1ffbfc565",
   "metadata": {},
   "outputs": [],
   "source": [
    "# Input the model to be used \"ft:gpt-3.5-turbo-1106:personal::9yLUndRk\"\n",
    "# Limit the context window of the model to 2048 tokens, ensuring that the \"refine\" mechanism is used for longer texts.\n",
    "ft_context = ServiceContext.from_defaults(\n",
    "    llm=OpenAI(model=\"ft:gpt-3.5-turbo-1106:personal::9yLUndRk\",temperature=0, openai_api_key=openai.api_key), context_window=2048\n",
    ")\n",
    "\n",
    "# Create a vector store index from the provided documents (docs) using the specified service context (gpt_context).\n",
    "# This index will be used for semantic similarity searches.\n",
    "index = VectorStoreIndex.from_documents(docs, service_context=ft_context)\n",
    "\n",
    "# Create a query engine from the index that returns the top 2 most semantically similar documents for a given query.\n",
    "query_engine = index.as_query_engine(similarity_top_k=2)\n",
    "\n",
    "# The fine tuned gpt-3.5-turbo-1106 model is used to understand the semantic content of documents and retrieve those most similar to the given query. "
   ]
  },
  {
   "cell_type": "code",
   "execution_count": 80,
   "id": "106ccd30-d4fe-4b8c-a472-69a94892e409",
   "metadata": {},
   "outputs": [],
   "source": [
    "# Initialize empty lists to store contexts (relevant document sections) and answers for each question.\n",
    "contexts = []\n",
    "answers = []\n",
    "\n",
    "# Loop through each question in the 'questions' list.\n",
    "for question in questions:\n",
    "    # Use the query engine to find the most relevant documents and generate an answer for the question.\n",
    "    response = query_engine.query(question)\n",
    "    \n",
    "    # Extract the content of the source nodes (relevant document sections) from the response\n",
    "    # and append them as context for the question.\n",
    "    contexts.append([x.node.get_content() for x in response.source_nodes])\n",
    "\n",
    "    # Append the generated answer (as a string) to the 'answers' list.\n",
    "    answers.append(str(response))\n",
    "    \n",
    "#store the contexts and answers of the responses"
   ]
  },
  {
   "cell_type": "code",
   "execution_count": 81,
   "id": "fbd49573-9b88-4470-9e11-570679fd4533",
   "metadata": {},
   "outputs": [
    {
     "data": {
      "application/vnd.jupyter.widget-view+json": {
       "model_id": "1567fef4853448ebbea0f3f2b5977d88",
       "version_major": 2,
       "version_minor": 0
      },
      "text/plain": [
       "Evaluating:   0%|          | 0/50 [00:00<?, ?it/s]"
      ]
     },
     "metadata": {},
     "output_type": "display_data"
    },
    {
     "name": "stdout",
     "output_type": "stream",
     "text": [
      "{'answer_relevancy': 0.9419, 'faithfulness': 0.9300}\n"
     ]
    }
   ],
   "source": [
    "# Create a dataset from the 'questions', 'answers', and 'contexts' lists by converting them into a dictionary format.\n",
    "# Each key represents a column, with \"question\", \"answer\", and \"contexts\" being the dataset fields.\n",
    "ds = Dataset.from_dict(\n",
    "    {\n",
    "        \"question\": questions,\n",
    "        \"answer\": answers,\n",
    "        \"contexts\": contexts,\n",
    "    }\n",
    ")\n",
    "\n",
    "# Evaluate the dataset (ds) using the specified evaluation metrics: 'answer_relevancy' and 'faithfulness'.\n",
    "# These metrics will assess the quality of the generated answers.\n",
    "result = evaluate(ds, [answer_relevancy, faithfulness])\n",
    "\n",
    "# Print the result of the evaluation, which includes scores for both metrics.\n",
    "print(result)\n",
    "\n",
    "#evaluate result on answer_relevancy & faithfulness using ragas. Ragas score  = (answer_relevancy + faithfulness) / 2"
   ]
  },
  {
   "cell_type": "markdown",
   "id": "2fbfcbee-035f-4c0c-b108-368027306f4b",
   "metadata": {},
   "source": [
    "#### Previous Results\n",
    "|         Models        | answer_relevancy | faithfulness |\r\n",
    "|:---------------------:|:----------------:|:------------:|\r\n",
    "| gpt-3.5-turbo         | 0.8734           | 0.1894       |\r\n",
    "| ft:gpt-3.5-turbo-1106 | 0.8892           | 0.2176       |\r\n",
    "| gpt-4                 | 0.6523           | 0.5279       |"
   ]
  },
  {
   "cell_type": "markdown",
   "id": "71a09013-f84b-4068-9e4e-21614c7bceb4",
   "metadata": {},
   "source": [
    "Previously when running the gpt models on the same user preference dataset used in the classification modelling, I got the relevancy and faithfulness results that is seen above. After trying multiple attmepts and methods of trying to improve the scores, such as changing the data in the user preference dataset and even making the train and evaluation questions as direct as possible, the scores still would not increase.\n",
    "\n",
    "After researching, I had found out that because the user preference dataset as well as the raw data used to create the user preference dataset was based and collected in 2023, while the gpt models are using the lastest 2024 database. This resulted in a discrepancy between the gpt model's database and the user preference dataset used. Hence, this resulted in the low faithfulness.\n",
    "\n",
    "To resolve this, I would have to update my user preference dataset as well as the raw data collected to the present(2024) and would have to constantly update them to keep the model accurate."
   ]
  },
  {
   "cell_type": "markdown",
   "id": "04effd85-1bfa-428a-9346-7a47b1091bf8",
   "metadata": {},
   "source": [
    "#### Latest Results\n",
    "| Models                | answer_relevancy | faithfulness |\r\n",
    "|-----------------------|------------------|--------------|\r\n",
    "| gpt-3.5-turbo         | 0.9379           | 0.9333       |\r\n",
    "| ft:gpt-3.5-turbo-1106 | 0.9419           | 0.9300       |\r\n",
    "| **gpt-4**             | **0.9395**       | **0.9700**   |"
   ]
  },
  {
   "attachments": {},
   "cell_type": "markdown",
   "id": "8bffc13c-bff8-4575-933c-810bf233394c",
   "metadata": {},
   "source": [
    "In the end, I had to change my approach and use a dataset filled with many likely questions that user will ask and accurate answers to those questions, called questions_answers. By using a different dataset, I had gotten the results you see above."
   ]
  },
  {
   "cell_type": "markdown",
   "id": "97814b02-7c94-413a-96db-436280c9e792",
   "metadata": {},
   "source": [
    "In conclustion: looking at the latest results, the best model to use would be the gpt-4 model. This is because the answer relevancy is very similar to the others at 0.9395 but the faithfulness is much higher than the other 2 models at 0.97. Hence, the gpt-4 model would be the best in this case."
   ]
  }
 ],
 "metadata": {
  "kernelspec": {
   "display_name": "Python 3 (ipykernel)",
   "language": "python",
   "name": "python3"
  },
  "language_info": {
   "codemirror_mode": {
    "name": "ipython",
    "version": 3
   },
   "file_extension": ".py",
   "mimetype": "text/x-python",
   "name": "python",
   "nbconvert_exporter": "python",
   "pygments_lexer": "ipython3",
   "version": "3.11.7"
  }
 },
 "nbformat": 4,
 "nbformat_minor": 5
}
